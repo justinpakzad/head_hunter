{
 "cells": [
  {
   "cell_type": "code",
   "execution_count": 28,
   "id": "fb926fd6",
   "metadata": {},
   "outputs": [],
   "source": [
    "import pandas as pd\n",
    "import numpy as np\n",
    "from tensorflow.keras import Sequential,layers\n",
    "from tensorflow.keras.callbacks import EarlyStopping\n",
    "import matplotlib.pyplot as plt\n",
    "import seaborn as sns\n",
    "from tensorflow.keras.utils import to_categorical\n",
    "from tensorflow.keras import layers\n",
    "from tensorflow.keras import models\n",
    "\n",
    "from tensorflow.keras.layers import Conv2D\n",
    "from sklearn.model_selection import train_test_split\n",
    "from tensorflow.keras.callbacks import EarlyStopping\n",
    "from tensorflow.keras.optimizers.experimental import RMSprop\n",
    "from tensorflow.keras.preprocessing.image import ImageDataGenerator"
   ]
  },
  {
   "cell_type": "code",
   "execution_count": 29,
   "id": "380f0c18",
   "metadata": {},
   "outputs": [],
   "source": [
    "import os\n",
    "from PIL import Image"
   ]
  },
  {
   "cell_type": "code",
   "execution_count": 30,
   "id": "090de618",
   "metadata": {},
   "outputs": [],
   "source": [
    "label_df = pd.read_csv('/Users/justinpak/code/justinpakzad/head_hunter/head_hunter/raw_data/kaggle_crowd_counter_data/labels.csv')"
   ]
  },
  {
   "cell_type": "code",
   "execution_count": 31,
   "id": "a69ffd86",
   "metadata": {},
   "outputs": [],
   "source": [
    "img = np.load('/Users/justinpak/code/justinpakzad/head_hunter/head_hunter/raw_data/kaggle_crowd_counter_data/images.npy')"
   ]
  },
  {
   "cell_type": "code",
   "execution_count": 32,
   "id": "b9704e3c",
   "metadata": {},
   "outputs": [
    {
     "data": {
      "text/html": [
       "<div>\n",
       "<style scoped>\n",
       "    .dataframe tbody tr th:only-of-type {\n",
       "        vertical-align: middle;\n",
       "    }\n",
       "\n",
       "    .dataframe tbody tr th {\n",
       "        vertical-align: top;\n",
       "    }\n",
       "\n",
       "    .dataframe thead th {\n",
       "        text-align: right;\n",
       "    }\n",
       "</style>\n",
       "<table border=\"1\" class=\"dataframe\">\n",
       "  <thead>\n",
       "    <tr style=\"text-align: right;\">\n",
       "      <th></th>\n",
       "      <th>id</th>\n",
       "      <th>count</th>\n",
       "    </tr>\n",
       "  </thead>\n",
       "  <tbody>\n",
       "    <tr>\n",
       "      <th>0</th>\n",
       "      <td>1</td>\n",
       "      <td>35</td>\n",
       "    </tr>\n",
       "    <tr>\n",
       "      <th>1</th>\n",
       "      <td>2</td>\n",
       "      <td>41</td>\n",
       "    </tr>\n",
       "    <tr>\n",
       "      <th>2</th>\n",
       "      <td>3</td>\n",
       "      <td>41</td>\n",
       "    </tr>\n",
       "    <tr>\n",
       "      <th>3</th>\n",
       "      <td>4</td>\n",
       "      <td>44</td>\n",
       "    </tr>\n",
       "    <tr>\n",
       "      <th>4</th>\n",
       "      <td>5</td>\n",
       "      <td>41</td>\n",
       "    </tr>\n",
       "  </tbody>\n",
       "</table>\n",
       "</div>"
      ],
      "text/plain": [
       "   id  count\n",
       "0   1     35\n",
       "1   2     41\n",
       "2   3     41\n",
       "3   4     44\n",
       "4   5     41"
      ]
     },
     "execution_count": 32,
     "metadata": {},
     "output_type": "execute_result"
    }
   ],
   "source": [
    "label_df.head()"
   ]
  },
  {
   "cell_type": "code",
   "execution_count": 33,
   "id": "75949e55",
   "metadata": {},
   "outputs": [
    {
     "data": {
      "text/plain": [
       "(2000, 480, 640, 3)"
      ]
     },
     "execution_count": 33,
     "metadata": {},
     "output_type": "execute_result"
    }
   ],
   "source": [
    "img.shape"
   ]
  },
  {
   "cell_type": "code",
   "execution_count": 34,
   "id": "9d2b1a7e",
   "metadata": {},
   "outputs": [],
   "source": [
    "labels = np.array(label_df['count'])"
   ]
  },
  {
   "cell_type": "code",
   "execution_count": 9,
   "id": "1449c4f3",
   "metadata": {},
   "outputs": [],
   "source": [
    "X_train,X_test,y_train,y_test = train_test_split(img,labels,test_size=0.15)"
   ]
  },
  {
   "cell_type": "code",
   "execution_count": 20,
   "id": "f62335d1",
   "metadata": {},
   "outputs": [],
   "source": [
    "def init_model():\n",
    "    model = Sequential()\n",
    "    model.add(layers.Conv2D(64, (3,3), input_shape=(480,640,3), activation='relu')),\n",
    "    model.add(layers.MaxPool2D(2,2)),\n",
    "    model.add(layers.Conv2D(128, (3,3),activation='relu')),\n",
    "    model.add(layers.MaxPool2D(2,2)),\n",
    "    model.add(layers.Dropout(0.2)),\n",
    "    model.add(layers.Flatten()),\n",
    "    model.add(layers.Dense(128, activation='relu')),\n",
    "    model.add(layers.Dense(1,activation='linear'))\n",
    "    \n",
    "    \n",
    "    model.compile(loss='mean_squared_error',optimizer='adam',metrics=['accuracy'])\n",
    "    \n",
    "    return model"
   ]
  },
  {
   "cell_type": "code",
   "execution_count": 21,
   "id": "d8a75271",
   "metadata": {},
   "outputs": [],
   "source": [
    "model = init_model()"
   ]
  },
  {
   "cell_type": "code",
   "execution_count": null,
   "id": "478d545c",
   "metadata": {},
   "outputs": [],
   "source": []
  },
  {
   "cell_type": "code",
   "execution_count": 22,
   "id": "c10d1363",
   "metadata": {},
   "outputs": [
    {
     "name": "stdout",
     "output_type": "stream",
     "text": [
      "Model: \"sequential_3\"\n",
      "_________________________________________________________________\n",
      " Layer (type)                Output Shape              Param #   \n",
      "=================================================================\n",
      " conv2d_4 (Conv2D)           (None, 478, 638, 64)      1792      \n",
      "                                                                 \n",
      " max_pooling2d_4 (MaxPooling  (None, 239, 319, 64)     0         \n",
      " 2D)                                                             \n",
      "                                                                 \n",
      " conv2d_5 (Conv2D)           (None, 237, 317, 128)     73856     \n",
      "                                                                 \n",
      " max_pooling2d_5 (MaxPooling  (None, 118, 158, 128)    0         \n",
      " 2D)                                                             \n",
      "                                                                 \n",
      " dropout_2 (Dropout)         (None, 118, 158, 128)     0         \n",
      "                                                                 \n",
      " flatten_2 (Flatten)         (None, 2386432)           0         \n",
      "                                                                 \n",
      " dense (Dense)               (None, 128)               305463424 \n",
      "                                                                 \n",
      " dense_1 (Dense)             (None, 1)                 129       \n",
      "                                                                 \n",
      "=================================================================\n",
      "Total params: 305,539,201\n",
      "Trainable params: 305,539,201\n",
      "Non-trainable params: 0\n",
      "_________________________________________________________________\n"
     ]
    }
   ],
   "source": [
    "model.summary()"
   ]
  },
  {
   "cell_type": "code",
   "execution_count": 27,
   "id": "ed2e3c5f",
   "metadata": {},
   "outputs": [],
   "source": [
    "es = EarlyStopping(patience=5,restore_best_weights=True)\n",
    "\n",
    "history = model.fit(X_train,y_train,epochs = 35,validation_split=0.2,verbose = 2)"
   ]
  }
 ],
 "metadata": {
  "kernelspec": {
   "display_name": "Python 3 (ipykernel)",
   "language": "python",
   "name": "python3"
  },
  "language_info": {
   "codemirror_mode": {
    "name": "ipython",
    "version": 3
   },
   "file_extension": ".py",
   "mimetype": "text/x-python",
   "name": "python",
   "nbconvert_exporter": "python",
   "pygments_lexer": "ipython3",
   "version": "3.10.6"
  },
  "toc": {
   "base_numbering": 1,
   "nav_menu": {},
   "number_sections": true,
   "sideBar": true,
   "skip_h1_title": false,
   "title_cell": "Table of Contents",
   "title_sidebar": "Contents",
   "toc_cell": false,
   "toc_position": {},
   "toc_section_display": true,
   "toc_window_display": false
  }
 },
 "nbformat": 4,
 "nbformat_minor": 5
}
